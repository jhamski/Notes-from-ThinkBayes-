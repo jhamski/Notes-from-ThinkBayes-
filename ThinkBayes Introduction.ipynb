{
 "metadata": {
  "name": "",
  "signature": "sha256:6c3d0f5f05efeef3bfdb0d294b36c152555bb3ff111efed54ed3fba020a3f0a2"
 },
 "nbformat": 3,
 "nbformat_minor": 0,
 "worksheets": [
  {
   "cells": [
    {
     "cell_type": "heading",
     "level": 1,
     "metadata": {},
     "source": [
      "Think Bayes - Notes and Explorations "
     ]
    },
    {
     "cell_type": "markdown",
     "metadata": {},
     "source": [
      "These are personal notes, examples, and explorations from or guided by Think Bayes (Copyright \u00a9 2012 Allen B. Downey), availalbe at: http://www.greenteapress.com/thinkbayes/\n",
      "\n",
      "Project Goals:\n",
      "- Better understand Bayesian probability and statistics fundamentals\n",
      "- Build out knowlege of practical applications and modeling using Bayes' Theory\n",
      "- Learn how to use IPython Notebooks"
     ]
    },
    {
     "cell_type": "heading",
     "level": 4,
     "metadata": {},
     "source": [
      "0.2 Modeling and approximation"
     ]
    },
    {
     "cell_type": "markdown",
     "metadata": {},
     "source": [
      "*Most chapters in this book are motivated by a real-world problem, so they involve some degree of modeling. Before we can apply Bayesian methods(or any other analysis), we have to make decisions about which parts of the real-world system to include in the model and which details we can abstract away.*\n",
      "\n",
      "**modeling errors** - errors due to simplifications and assumptions in the model   \n",
      "**numerical errors** - errors due to the finite precision of computations involving floating-point or integer values and/or due to the performance of a approximate computational solution, not an exact mathematical soultion that cannot be reasonably calculated (for instance the truncation of an infinite series exapansion).   \n",
      "\n",
      "This book relies on discrete probability distributions which may introduce numerical errors but Downey states... \n",
      "*But for real-world problems, numerical errors are almost always smaller than modeling errors.* \n",
      "*...I would rather have an approximate solution to a good model than an exact solution to a bad model.*\n",
      "\n",
      "Basic modeling workflow:\n",
      "1. While exploring the problem, first implement a simple model that is clear and demonstrably correct. \n",
      "2. Identify the biggest sources of error in the model (i.e. number of iterations in a Monte Carlo model needs to increase, or details need to be added to the model to account for more important parameters, etc.) \n",
      "3. Optimize model according to needs. Two basic approaches:   \n",
      "    a. Look at code and optimize things like redudant computations or parallelize computations  \n",
      "    b. Look for analytical methods that yield computational shortcuts with about the same results   \n",
      "    \n"
     ]
    },
    {
     "cell_type": "markdown",
     "metadata": {},
     "source": []
    }
   ],
   "metadata": {}
  }
 ]
}