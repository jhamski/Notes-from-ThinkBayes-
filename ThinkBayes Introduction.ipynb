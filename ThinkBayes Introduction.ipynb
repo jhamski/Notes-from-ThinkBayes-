{
 "metadata": {
  "name": "",
  "signature": "sha256:13c5ea0234cb8b88a90e0e95512df2a241ff12d31170bab53f42f415f37511af"
 },
 "nbformat": 3,
 "nbformat_minor": 0,
 "worksheets": [
  {
   "cells": [
    {
     "cell_type": "heading",
     "level": 1,
     "metadata": {},
     "source": [
      "Think Bayes - Notes and Explorations "
     ]
    },
    {
     "cell_type": "markdown",
     "metadata": {},
     "source": [
      "These are personal notes, examples, and explorations from or guided by Think Bayes (Copyright \u00a9 2012 Allen B. Downey), availalbe at: http://www.greenteapress.com/thinkbayes/\n",
      "\n",
      "Project Goals:\n",
      "- Better understand Bayesian probability and statistics fundamentals\n",
      "- Build out knowlege of practical applications and modeling using Bayes' Theory\n",
      "- Learn how to use IPython Notebooks"
     ]
    },
    {
     "cell_type": "heading",
     "level": 4,
     "metadata": {},
     "source": [
      "0.2 Modeling and approximation"
     ]
    },
    {
     "cell_type": "markdown",
     "metadata": {},
     "source": [
      "Most chapters in this book are motivated by a real-world problem, so they involve some degree of modeling. Before we can apply Bayesian methods(or any other analysis), we have to make decisions about which parts of the real-world system to include in the model and which details we can abstract away."
     ]
    }
   ],
   "metadata": {}
  }
 ]
}