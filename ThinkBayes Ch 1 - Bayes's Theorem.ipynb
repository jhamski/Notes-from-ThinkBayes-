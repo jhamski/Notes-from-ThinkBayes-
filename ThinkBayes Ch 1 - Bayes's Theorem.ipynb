{
 "metadata": {
  "name": "",
  "signature": "sha256:7bdc64beddfe1aea53bfff2bec57ccc0d76a3e926c365ab07722086eb0e1ef90"
 },
 "nbformat": 3,
 "nbformat_minor": 0,
 "worksheets": [
  {
   "cells": [
    {
     "cell_type": "heading",
     "level": 1,
     "metadata": {},
     "source": [
      "Chapter 1 - Bayes's Theorem"
     ]
    },
    {
     "cell_type": "heading",
     "level": 3,
     "metadata": {},
     "source": [
      "Conditional Probability"
     ]
    },
    {
     "cell_type": "markdown",
     "metadata": {},
     "source": [
      "Simply - a conditional probability is a probability based on some background information"
     ]
    }
   ],
   "metadata": {}
  }
 ]
}