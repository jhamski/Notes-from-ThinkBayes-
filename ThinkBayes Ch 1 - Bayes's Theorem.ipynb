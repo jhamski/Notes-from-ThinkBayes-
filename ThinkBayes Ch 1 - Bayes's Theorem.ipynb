{
 "metadata": {
  "name": "",
  "signature": "sha256:30c27fe123dacf844b249fad2c5b3aaa1c036efd9c7f739b3599d52cf95303be"
 },
 "nbformat": 3,
 "nbformat_minor": 0,
 "worksheets": [
  {
   "cells": [
    {
     "cell_type": "heading",
     "level": 1,
     "metadata": {},
     "source": [
      "Chapter 1 - Bayes's Theorem"
     ]
    },
    {
     "cell_type": "heading",
     "level": 3,
     "metadata": {},
     "source": [
      "Conditional Probability"
     ]
    },
    {
     "cell_type": "markdown",
     "metadata": {},
     "source": [
      "Simply - a conditional probability is a probability based on some background information\n",
      "\n",
      "Take two events, A and B. The conjoint probability (the probability of both A and B occuring) is equal to A x B if they are independent. The probability of B given A is equal to the probability of B  [P(B|A) = P(B)], the two events don't have anything to do with eachother.  \n",
      "\n",
      "Take two events that we can expect to be connected (i.e. not independent). Like the probability of \"sleeping in\" = A and the probablity of \"is it Saturday\" = B. If it is more likely to be Saturday if we condition the probability on the evidence that we slept in. \n",
      "\n",
      "The probability of the conjunction A and B is:  \n",
      "P(A and B) = P(A)P(B|A)  \n",
      "This is essentially the same principle as the afformentioned P(A) x P(B) for independent events but we've conditioned B to take A into account. \n"
     ]
    },
    {
     "cell_type": "heading",
     "level": 3,
     "metadata": {},
     "source": [
      "Bayes's Theorem"
     ]
    },
    {
     "cell_type": "markdown",
     "metadata": {},
     "source": [
      "**Cookie problem:** there are two bowls of cookies, bowl 1 contains 30 vanilla and 10 chocolate. Bowl 2 contains 20 vanilla and 20 chocolate. Say you chose one bowl at random and then select one cookie at random. The cookie is vanilla. What is the probability it came from bowl 1? This is P(Bowl 1|vanilla). \n",
      "\n",
      "Note that question \"what's probability of a vanilla cookie given \"Bowl 1\"\"? Is pretty easy: P(vanilla|Bowl 1) = 3/4. But the question of bowl 1 is less clear. \n",
      "\n",
      "1) conjunction is cummulative  \n",
      "P(A and B) = P(B and A) \n",
      "\n",
      "2) probability of a conjunction  \n",
      "P(A and B) = P(A)P(B|A)\n",
      "\n",
      "3) A and B are interchangable  \n",
      "P(B and A) = P(B)P(A|B)\n",
      "\n",
      "4) therefore  \n",
      "P(B)P(A|B) = P(A)P(B|A)\n",
      "\n",
      "5) dividing by P(B)\n",
      "\n",
      "P(A|B) = P(A)P(B|A)/P(B)  \n",
      "\n",
      "For cookie problem:  \n",
      "P(Bowl 1|vanilla) = P(Bowl 2)P(vanilla|Bowl 1)/P(vanilla)  \n",
      "P(Bowl 1) = probability of chosing bowl 1 = 1/2  \n",
      "P(vanilla|Bowl 1) = given we chose Bowl 1, what is prob. of vanilla? = 3/4  \n",
      "P(vanilla) = overall probability of vanilla (ie both bowls) = 5/8  \n",
      "  \n",
      "P(Bowl 1 |vanilla) = 3/5  \n",
      "  \n",
      "**The diachronic interpretation**"
     ]
    }
   ],
   "metadata": {}
  }
 ]
}