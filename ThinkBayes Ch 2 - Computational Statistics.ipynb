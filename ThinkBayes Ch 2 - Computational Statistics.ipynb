{
 "metadata": {
  "name": "",
  "signature": "sha256:9e04e923d825bca4f60dfd48dd00c7154e033a2dbb07bf8e64182681b425c1fc"
 },
 "nbformat": 3,
 "nbformat_minor": 0,
 "worksheets": [
  {
   "cells": [
    {
     "cell_type": "heading",
     "level": 1,
     "metadata": {},
     "source": [
      "Chapter 2 - Computational Statistics"
     ]
    },
    {
     "cell_type": "markdown",
     "metadata": {},
     "source": [
      "**PMF** - probability mass function, mathematically represents a probability distribution. "
     ]
    },
    {
     "cell_type": "code",
     "collapsed": false,
     "input": [
      "from thinkbayes import Pmf"
     ],
     "language": "python",
     "metadata": {},
     "outputs": [],
     "prompt_number": 4
    },
    {
     "cell_type": "markdown",
     "metadata": {},
     "source": [
      "To represent a probability distribution in Python, create a dictionary that maps each value to it's probability. \n",
      "\n",
      "To represnt the probability mass function (pmf) of a six sided die:"
     ]
    },
    {
     "cell_type": "code",
     "collapsed": false,
     "input": [
      "pmf = Pmf() #creates empty pmf\n",
      "for x in [1,2,3,4,5,6]:\n",
      "    pmf.Set(x, 1/6.0) #Set assigns probabilities"
     ],
     "language": "python",
     "metadata": {},
     "outputs": []
    },
    {
     "cell_type": "markdown",
     "metadata": {},
     "source": [
      "Say we want to describe the pmf of the words in a list. We can use the following:"
     ]
    },
    {
     "cell_type": "code",
     "collapsed": false,
     "input": [
      "word_list = [\"the\", \"ant\", \"the\", \"sidewalk\", \"the\", \"crumb\", \"one\", \"more\", \"ant\", \"the\", \"crumb\"]\n",
      "\n",
      "pmf = Pmf()\n",
      "for word in word_list:\n",
      "    pmf.Incr(word, 1)\n",
      "    \n",
      "pmf.Normalize() #divides by total word count in order to get true probabilies. i.e. the add to 1\n",
      "\n",
      "print pmf.Prob('the')"
     ],
     "language": "python",
     "metadata": {},
     "outputs": [
      {
       "output_type": "stream",
       "stream": "stdout",
       "text": [
        "0.363636363636\n"
       ]
      }
     ],
     "prompt_number": 8
    },
    {
     "cell_type": "heading",
     "level": 3,
     "metadata": {},
     "source": [
      "2.2 The cookie problem"
     ]
    },
    {
     "cell_type": "markdown",
     "metadata": {},
     "source": [
      "Use a pmf to map each hypothesis to its probability"
     ]
    },
    {
     "cell_type": "code",
     "collapsed": false,
     "input": [
      "pmf = Pmf()\n",
      "\n",
      "#set the prior probabilities \"priors\"\n",
      "pmf.Set('Bowl 1', 0.5)\n",
      "pmf.Set('Bowl 2', 0.5)\n",
      "\n",
      "#multiply each prior by the corresponding likelhood based on the updated information\n",
      "#see chapter 1\n",
      "pmf.Mult('Bowl 1', 0.75)\n",
      "pmf.Mult('Bowl 2', 0.5)\n",
      "\n",
      "#because these hypothesis are mutually exlusive and exhaustive, we renormalize\n",
      "pmf.Normalize()\n",
      "\n",
      "#find the posterior probabilty for Bowl 1\n",
      "print pmf.Prob('Bowl 1')"
     ],
     "language": "python",
     "metadata": {},
     "outputs": [
      {
       "output_type": "stream",
       "stream": "stdout",
       "text": [
        "0.6\n"
       ]
      }
     ],
     "prompt_number": 5
    },
    {
     "cell_type": "heading",
     "level": 3,
     "metadata": {},
     "source": [
      "2.3 The Bayesian Framework"
     ]
    },
    {
     "cell_type": "code",
     "collapsed": false,
     "input": [
      "#generalizing the cookie problem\n",
      "\n",
      "# a Cookie object is a pmf that maps hypotheses to their probabilities.\n",
      "# the __init__ method gives each hypoth. the same prior probability. \n",
      "\n",
      "class Cookie(Pmf):\n",
      "    def __init__(self, hypos):\n",
      "        Pmf.__init__(self)\n",
      "        for hypo in hypos:\n",
      "            self.Set(hypo,1)\n",
      "        self.Normalize()\n",
      "    \n",
      "    # Update method takes data as a paramter and updates the probabilities\n",
      "    # Update loops through each hypoth. and multiplies its prob. by the likelihood of the data under the \n",
      "    # hypothesis, as computed by Likelihood. \n",
      "    \n",
      "    def Update(self, data):\n",
      "        for hypo in self.Values():\n",
      "            like = self.Likelihood(data, hypo)\n",
      "            self.Mult(hypo, like)\n",
      "        self.Normalize()\n",
      "        \n",
      "    #mixes is a dict that maps the name of a bowl to the mix of cookies in bowl\n",
      "    mixes = {\n",
      "        'Bowl 1': dict(vanilla=0.75, chocolate=0.25),\n",
      "        'Bowl 2': dict(vanilla=0.5, chocolate=0.5),\n",
      "        }\n",
      "    \n",
      "    # Likelihood uses mixes, above\n",
      "    def Likelihood(self, data, hypo):\n",
      "        mix = self.mixes[hypo]\n",
      "        like = mix[data]\n",
      "        return like\n",
      "\n",
      "    \n",
      "#starting hypothesis \n",
      "hypos = ['Bowl 1', 'Bowl 2']\n",
      "pmf = Cookie(hypos)"
     ],
     "language": "python",
     "metadata": {},
     "outputs": [],
     "prompt_number": 49
    },
    {
     "cell_type": "markdown",
     "metadata": {},
     "source": [
      "A cookie object is a pmf that maps from hypotheses to their probabilities. Note the __init__ method gives each hypothesis the same prior probability. "
     ]
    },
    {
     "cell_type": "code",
     "collapsed": false,
     "input": [
      "pmf.Update('vanilla')"
     ],
     "language": "python",
     "metadata": {},
     "outputs": [],
     "prompt_number": 50
    },
    {
     "cell_type": "markdown",
     "metadata": {},
     "source": [
      "Print the posterio probability of each hypothesis:"
     ]
    },
    {
     "cell_type": "code",
     "collapsed": false,
     "input": [
      "for hypo, prob in pmf.Items():\n",
      "    print hypo, prob"
     ],
     "language": "python",
     "metadata": {},
     "outputs": [
      {
       "output_type": "stream",
       "stream": "stdout",
       "text": [
        "Bowl 2 0.4\n",
        "Bowl 1 0.6\n"
       ]
      }
     ],
     "prompt_number": 51
    },
    {
     "cell_type": "code",
     "collapsed": false,
     "input": [
      "# combined\n",
      "def main():\n",
      "    hypos = ['Bowl 1', 'Bowl 2']\n",
      "\n",
      "    pmf = Cookie(hypos)\n",
      "\n",
      "    pmf.Update('vanilla')\n",
      "\n",
      "    for hypo, prob in pmf.Items():\n",
      "        print hypo, prob\n",
      "\n",
      "\n",
      "if __name__ == '__main__':\n",
      "    main()"
     ],
     "language": "python",
     "metadata": {},
     "outputs": [
      {
       "output_type": "stream",
       "stream": "stdout",
       "text": [
        "Bowl 2 0.4\n",
        "Bowl 1 0.6\n"
       ]
      }
     ],
     "prompt_number": 52
    },
    {
     "cell_type": "markdown",
     "metadata": {},
     "source": [
      "We can now draw more than one cookie from the bowl (with replacement):"
     ]
    },
    {
     "cell_type": "code",
     "collapsed": false,
     "input": [
      "dataset = ['vanilla', 'chocolate', 'vanilla']\n",
      "for data in dataset:\n",
      "    pmf.Update(data)"
     ],
     "language": "python",
     "metadata": {},
     "outputs": [],
     "prompt_number": 47
    },
    {
     "cell_type": "code",
     "collapsed": false,
     "input": [
      "for hypo, prob in pmf.Items():\n",
      "    print hypo, prob"
     ],
     "language": "python",
     "metadata": {},
     "outputs": [
      {
       "output_type": "stream",
       "stream": "stdout",
       "text": [
        "Bowl 2 0.372093023256\n",
        "Bowl 1 0.627906976744\n"
       ]
      }
     ],
     "prompt_number": 48
    },
    {
     "cell_type": "heading",
     "level": 3,
     "metadata": {},
     "source": [
      "The Monty Hall Problem"
     ]
    },
    {
     "cell_type": "code",
     "collapsed": false,
     "input": [
      "from thinkbayes import Pmf\n",
      "\n",
      "class Monty(Pmf):\n",
      "    \n",
      "    def __init__(self, hypos):\n",
      "        Pmf.__init__(self)\n",
      "        for hypo in hypos:\n",
      "            self.Set(hypo, 1)\n",
      "        self.Normalize()\n",
      "        \n",
      "    def Update(self, data):\n",
      "        for hypo in self.Values():\n",
      "            like = self.Likelihood(data, hypo)\n",
      "            self.Mult(hypo, like)\n",
      "        self.Normalize()\n",
      "    \n",
      "    def Likelihood(self, data, hypo):\n",
      "        if hypo == data:\n",
      "            return 0\n",
      "        elif hypo == 'A':\n",
      "            return 0.5\n",
      "        else:\n",
      "            return 1\n",
      "def main ():\n",
      "    hypos = 'ABC'\n",
      "    pmf = Monty(hypos)\n",
      "    data = 'B'\n",
      "    pmf.Update(data)\n",
      "\n",
      "    for hypo, prob in sorted(pmf.Items()):\n",
      "        print hypo, prob\n",
      "        \n",
      "if __name__ == '__main__':\n",
      "    main()"
     ],
     "language": "python",
     "metadata": {},
     "outputs": [
      {
       "output_type": "stream",
       "stream": "stdout",
       "text": [
        "A 0.333333333333\n",
        "B 0.0\n",
        "C 0.666666666667\n"
       ]
      }
     ],
     "prompt_number": 13
    },
    {
     "cell_type": "heading",
     "level": 3,
     "metadata": {},
     "source": [
      "2.5 Encapsulating the framework"
     ]
    },
    {
     "cell_type": "code",
     "collapsed": false,
     "input": [
      "class Suite(Pmf):\n",
      "    \"\"\"Represents a suite of hypotheses and their probabilities.\"\"\"\n",
      "    \n",
      "    def __init__(self, hypo=tuple()):\n",
      "        \"\"\"Initialized the distribution.\"\"\"\n",
      "    \n",
      "    def Update(self, data):\n",
      "        \"\"\"Updates each hypothesis based on the data.\"\"\"\n",
      "        \n",
      "    def Print(self):\n",
      "        \"\"\"Prints the hypotheses and their probabilities.\"\"\""
     ],
     "language": "python",
     "metadata": {},
     "outputs": [],
     "prompt_number": 14
    },
    {
     "cell_type": "markdown",
     "metadata": {},
     "source": [
      "To use **Suite**, write a class that inherits from it and provides **Likelihood**. Example: rewriting the Monty Hall problem using **Suite**:"
     ]
    },
    {
     "cell_type": "code",
     "collapsed": false,
     "input": [
      "from thinkbayes import Suite\n",
      "\n",
      "class Monty(Suite):\n",
      "    \n",
      "    def Likelihood(self, data, hypo):\n",
      "        if hypo == data:\n",
      "            return 0 \n",
      "        elif hypo == 'A':\n",
      "            return 0.5\n",
      "        else:\n",
      "            return 1\n",
      "        \n",
      "def main ():    \n",
      "    suite = Monty('ABC')\n",
      "    suite.Update('B')\n",
      "    suite.Print()\n",
      "\n",
      "if __name__ == '__main__':\n",
      "    main()"
     ],
     "language": "python",
     "metadata": {},
     "outputs": [
      {
       "output_type": "stream",
       "stream": "stdout",
       "text": [
        "A 0.333333333333\n",
        "B 0.0\n",
        "C 0.666666666667\n"
       ]
      }
     ],
     "prompt_number": 15
    },
    {
     "cell_type": "heading",
     "level": 3,
     "metadata": {},
     "source": [
      "2.6 The M&M problem"
     ]
    },
    {
     "cell_type": "code",
     "collapsed": false,
     "input": [
      "from thinkbayes import Suite\n",
      "\n",
      "class MM(Suite):\n",
      "    mix94 = dict(brown=30,\n",
      "                 yellow=20,\n",
      "                 red=20,\n",
      "                 green=10,\n",
      "                 orange=10,\n",
      "                 tan=10)\n",
      "    mix96 = dict(blue=24,\n",
      "                 green=20,\n",
      "                 orange=16,\n",
      "                 yellow=14,\n",
      "                 red=13,\n",
      "                 brown=13)\n",
      "    \n",
      "    hypoA = dict(bag1=mix94, bag2=mix96)\n",
      "    hypoB = dict(bag1=mix96, bag2=mix94)\n",
      "    \n",
      "    hypotheses = dict(A=hypoA, B=hypoB)\n",
      "    \n",
      "    def Likelihood(self, data, hypo):\n",
      "        bag, color = data\n",
      "        mix = self.hypotheses[hypo][bag]\n",
      "        like = mix[color]\n",
      "        return like\n",
      "        \n",
      "def main ():    \n",
      "    suite = MM('AB')\n",
      "    \n",
      "    suite.Update(('bag1', 'yellow'))\n",
      "    suite.Update(('bag2', 'green'))\n",
      "    \n",
      "    suite.Print()\n",
      "\n",
      "if __name__ == '__main__':\n",
      "    main()"
     ],
     "language": "python",
     "metadata": {},
     "outputs": [
      {
       "output_type": "stream",
       "stream": "stdout",
       "text": [
        "A 0.740740740741\n",
        "B 0.259259259259\n"
       ]
      }
     ],
     "prompt_number": 5
    },
    {
     "cell_type": "heading",
     "level": 3,
     "metadata": {},
     "source": [
      "2.7 Discussion"
     ]
    },
    {
     "cell_type": "markdown",
     "metadata": {},
     "source": [
      "The **Suite** class encapsulates the Bayesian update framework. It is an *abstract type*, meaning it defines the interface Suite is supposed to have, but doesn't complete the implementation. while Update and Likelihood are both interfaced via Suite, only Update is implemented. We must implement Likelihood within the class. \n",
      "\n",
      "A *concrete type* is a class that extends an abstract parent class and provides an implementation of the missing methods. i.e. **Monty** extends Suite, so it inherits **Updates** and provides **Likelihood** \n",
      "\n",
      "See: https://en.wikipedia.org/wiki/Template_method_pattern for more info on this design pattern. "
     ]
    },
    {
     "cell_type": "heading",
     "level": 3,
     "metadata": {},
     "source": [
      "2.8 Exercises"
     ]
    },
    {
     "cell_type": "markdown",
     "metadata": {},
     "source": [
      "Exercise 2.1 In Section 2.3 I said that the solution to the cookie problem generalizes to the case where we draw multiple cookies with replacement. But in the more likely scenario where we eat the cookies we draw, the like- lihood of each draw depends on the previous draws.\n",
      "Modify the solution in this chapter to handle selection without replacement. \n",
      "\n",
      "Hint: add instance variables to Cookie to represent the hypothetical state of the bowls, and modify Likelihood accordingly. You might want to define a Bowl object."
     ]
    },
    {
     "cell_type": "code",
     "collapsed": false,
     "input": [
      "# Going from sampling with replacement to sampling without replacement. "
     ],
     "language": "python",
     "metadata": {},
     "outputs": []
    }
   ],
   "metadata": {}
  }
 ]
}