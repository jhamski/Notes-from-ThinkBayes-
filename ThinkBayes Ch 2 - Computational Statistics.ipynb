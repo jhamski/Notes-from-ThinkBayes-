{
 "metadata": {
  "name": "",
  "signature": "sha256:a1877bfc212419d5311ceac038ba1be6f322adc59b143082d53b74d002d8cf3e"
 },
 "nbformat": 3,
 "nbformat_minor": 0,
 "worksheets": [
  {
   "cells": [
    {
     "cell_type": "heading",
     "level": 1,
     "metadata": {},
     "source": [
      "Chapter 2 - Computational Statistics"
     ]
    },
    {
     "cell_type": "markdown",
     "metadata": {},
     "source": [
      "**PMF** - probability mass function, mathematically represents a probability distribution. "
     ]
    },
    {
     "cell_type": "code",
     "collapsed": false,
     "input": [
      "from thinkbayes import Pmf"
     ],
     "language": "python",
     "metadata": {},
     "outputs": [],
     "prompt_number": 4
    },
    {
     "cell_type": "markdown",
     "metadata": {},
     "source": [
      "To represent a probability distribution in Python, create a dictionary that maps each value to it's probability. \n",
      "\n",
      "To represnt the probability mass function (pmf) of a six sided die:"
     ]
    },
    {
     "cell_type": "code",
     "collapsed": false,
     "input": [
      "pmf = Pmf() #creates empty pmf\n",
      "for x in [1,2,3,4,5,6]:\n",
      "    pmf.Set(x, 1/6.0) #Set assigns probabilities"
     ],
     "language": "python",
     "metadata": {},
     "outputs": []
    },
    {
     "cell_type": "markdown",
     "metadata": {},
     "source": [
      "Say we want to describe the pmf of the words in a list. We can use the following:"
     ]
    },
    {
     "cell_type": "code",
     "collapsed": false,
     "input": [
      "word_list = [\"the\", \"ant\", \"the\", \"sidewalk\", \"the\", \"crumb\", \"one\", \"more\", \"ant\", \"the\", \"crumb\"]\n",
      "\n",
      "pmf = Pmf()\n",
      "for word in word_list:\n",
      "    pmf.Incr(word, 1)\n",
      "    \n",
      "pmf.Normalize() #divides by total word count in order to get true probabilies. i.e. the add to 1\n",
      "\n",
      "print pmf.Prob('the')"
     ],
     "language": "python",
     "metadata": {},
     "outputs": [
      {
       "output_type": "stream",
       "stream": "stdout",
       "text": [
        "0.363636363636\n"
       ]
      }
     ],
     "prompt_number": 8
    },
    {
     "cell_type": "heading",
     "level": 3,
     "metadata": {},
     "source": [
      "2.2 The cookie problem"
     ]
    },
    {
     "cell_type": "markdown",
     "metadata": {},
     "source": [
      "Use a pmf to map each hypothesis to its probability"
     ]
    },
    {
     "cell_type": "code",
     "collapsed": false,
     "input": [
      "pmf = Pmf()\n",
      "\n",
      "#set the prior probabilities \"priors\"\n",
      "pmf.Set('Bowl 1', 0.5)\n",
      "pmf.Set('Bowl 2', 0.5)\n",
      "\n",
      "#multiply each prior by the corresponding likelhood based on the updated information\n",
      "#see chapter 1\n",
      "pmf.Mult('Bowl 1', 0.75)\n",
      "pmf.Mult('Bowl 2', 0.5)\n",
      "\n",
      "#because these hypothesis are mutually exlusive and exhaustive, we renormalize\n",
      "pmf.Normalize()\n",
      "\n",
      "#find the posterior probabilty for Bowl 1\n",
      "print pmf.Prob('Bowl 1')"
     ],
     "language": "python",
     "metadata": {},
     "outputs": [
      {
       "output_type": "stream",
       "stream": "stdout",
       "text": [
        "0.6\n"
       ]
      }
     ],
     "prompt_number": 5
    },
    {
     "cell_type": "heading",
     "level": 3,
     "metadata": {},
     "source": [
      "2.3 The Bayesian Framework"
     ]
    },
    {
     "cell_type": "code",
     "collapsed": false,
     "input": [
      "#generalizing the cookie problem\n",
      "\n",
      "class Cookie(Pmf):\n",
      "    def __init__(self, hypos):\n",
      "        Pmf.__init__(self)\n",
      "        for hypo in hypos:\n",
      "            self.Set(hypo,1)\n",
      "        self.Normalize()"
     ],
     "language": "python",
     "metadata": {},
     "outputs": [],
     "prompt_number": 11
    },
    {
     "cell_type": "code",
     "collapsed": false,
     "input": [
      "hypos = ['Bowl 1', 'Bowl 2']\n",
      "pmf = Cookie (hypos)"
     ],
     "language": "python",
     "metadata": {},
     "outputs": [],
     "prompt_number": 12
    },
    {
     "cell_type": "code",
     "collapsed": false,
     "input": [],
     "language": "python",
     "metadata": {},
     "outputs": []
    }
   ],
   "metadata": {}
  }
 ]
}