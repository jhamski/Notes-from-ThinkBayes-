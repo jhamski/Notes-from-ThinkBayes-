{
 "metadata": {
  "name": "",
  "signature": "sha256:c8a932807ed23699eac13f822aa107aa468f96f9d515a951fdddeac37d6fa220"
 },
 "nbformat": 3,
 "nbformat_minor": 0,
 "worksheets": [
  {
   "cells": [
    {
     "cell_type": "heading",
     "level": 1,
     "metadata": {},
     "source": [
      "Chapter 2 - Computational Statistics"
     ]
    },
    {
     "cell_type": "markdown",
     "metadata": {},
     "source": [
      "**PMF** - probability mass function, mathematically represents a probability distribution. "
     ]
    },
    {
     "cell_type": "code",
     "collapsed": false,
     "input": [
      "from thinkbayes import Pmf"
     ],
     "language": "python",
     "metadata": {},
     "outputs": [],
     "prompt_number": 4
    },
    {
     "cell_type": "markdown",
     "metadata": {},
     "source": [
      "To represent a probability distribution in Python, create a dictionary that maps each value to it's probability. \n",
      "\n",
      "To represnt the probability mass function (pmf) of a six sided die:"
     ]
    },
    {
     "cell_type": "code",
     "collapsed": false,
     "input": [
      "pmf = Pmf() #creates empty pmf\n",
      "for x in [1,2,3,4,5,6]:\n",
      "    pmf.Set(x, 1/6.0) #Set assigns probabilities"
     ],
     "language": "python",
     "metadata": {},
     "outputs": []
    },
    {
     "cell_type": "markdown",
     "metadata": {},
     "source": [
      "Say we want to describe the pmf of the words in a list. We can use the following:"
     ]
    },
    {
     "cell_type": "code",
     "collapsed": false,
     "input": [
      "word_list = [\"the\", \"ant\", \"the\", \"sidewalk\", \"the\", \"crumb\", \"one\", \"more\", \"ant\", \"the\", \"crumb\"]\n",
      "\n",
      "pmf = Pmf()\n",
      "for word in word_list:\n",
      "    pmf.Incr(word, 1)\n",
      "    \n",
      "pmf.Normalize() #divides by total word count in order to get true probabilies. i.e. the add to 1\n",
      "\n",
      "print pmf.Prob('the')"
     ],
     "language": "python",
     "metadata": {},
     "outputs": [
      {
       "output_type": "stream",
       "stream": "stdout",
       "text": [
        "0.363636363636\n"
       ]
      }
     ],
     "prompt_number": 8
    },
    {
     "cell_type": "heading",
     "level": 3,
     "metadata": {},
     "source": [
      "2.2 The cookie problem"
     ]
    },
    {
     "cell_type": "markdown",
     "metadata": {},
     "source": [
      "Use a pmf to map each hypothesis to its probability"
     ]
    },
    {
     "cell_type": "code",
     "collapsed": false,
     "input": [
      "pmf = Pmf()\n",
      "\n",
      "#set the prior probabilities \"priors\"\n",
      "pmf.Set('Bowl 1', 0.5)\n",
      "pmf.Set('Bowl 2', 0.5)\n",
      "\n",
      "#multiply each prior by the corresponding likelhood based on the updated information\n",
      "#see chapter 1\n",
      "pmf.Mult('Bowl 1', 0.75)\n",
      "pmf.Mult('Bowl 2', 0.5)\n",
      "\n",
      "#because these hypothesis are mutually exlusive and exhaustive, we renormalize\n",
      "pmf.Normalize()\n",
      "\n",
      "#find the posterior probabilty for Bowl 1\n",
      "print pmf.Prob('Bowl 1')"
     ],
     "language": "python",
     "metadata": {},
     "outputs": [
      {
       "output_type": "stream",
       "stream": "stdout",
       "text": [
        "0.6\n"
       ]
      }
     ],
     "prompt_number": 5
    },
    {
     "cell_type": "heading",
     "level": 3,
     "metadata": {},
     "source": [
      "2.3 The Bayesian Framework"
     ]
    },
    {
     "cell_type": "code",
     "collapsed": false,
     "input": [
      "#generalizing the cookie problem\n",
      "\n",
      "# a Cookie object is a pmf that maps hypotheses to their probabilities.\n",
      "# the __init__ method gives each hypoth. the same prior probability. \n",
      "\n",
      "class Cookie(Pmf):\n",
      "    def __init__(self, hypos):\n",
      "        Pmf.__init__(self)\n",
      "        for hypo in hypos:\n",
      "            self.Set(hypo,1)\n",
      "        self.Normalize()\n",
      "    \n",
      "    # Update method takes data as a paramter and updates the probabilities\n",
      "    # Update loops through each hypoth. and multiplies its prob. by the likelihood of the data under the \n",
      "    # hypothesis, as computed by Likelihood. \n",
      "    \n",
      "    def Update(self, data):\n",
      "        for hypo in self.Values():\n",
      "            like = self.Likelihood(data, hypo)\n",
      "            self.Mult(hypo, like)\n",
      "        self.Normalize()\n",
      "        \n",
      "    #mixes is a dict that maps the name of a bowl to the mix of cookies in bowl\n",
      "    mixes = {\n",
      "        'Bowl 1': dict(vanilla=0.75, chocolate=0.25),\n",
      "        'Bowl 2': dict(vanilla=0.5, chocolate=0.5),\n",
      "        }\n",
      "    \n",
      "    # Likelihood uses mixes, above\n",
      "    def Likelihood(self, data, hypo):\n",
      "        mix = self.mixes[hypo]\n",
      "        like = mix[data]\n",
      "        return like\n",
      "\n",
      "    \n",
      "#starting hypothesis \n",
      "hypos = ['Bowl 1', 'Bowl 2']\n",
      "pmf = Cookie(hypos)"
     ],
     "language": "python",
     "metadata": {},
     "outputs": [],
     "prompt_number": 49
    },
    {
     "cell_type": "markdown",
     "metadata": {},
     "source": [
      "A cookie object is a pmf that maps from hypotheses to their probabilities. Note the __init__ method gives each hypothesis the same prior probability. "
     ]
    },
    {
     "cell_type": "code",
     "collapsed": false,
     "input": [
      "pmf.Update('vanilla')"
     ],
     "language": "python",
     "metadata": {},
     "outputs": [],
     "prompt_number": 50
    },
    {
     "cell_type": "markdown",
     "metadata": {},
     "source": [
      "Print the posterio probability of each hypothesis:"
     ]
    },
    {
     "cell_type": "code",
     "collapsed": false,
     "input": [
      "for hypo, prob in pmf.Items():\n",
      "    print hypo, prob"
     ],
     "language": "python",
     "metadata": {},
     "outputs": [
      {
       "output_type": "stream",
       "stream": "stdout",
       "text": [
        "Bowl 2 0.4\n",
        "Bowl 1 0.6\n"
       ]
      }
     ],
     "prompt_number": 51
    },
    {
     "cell_type": "code",
     "collapsed": false,
     "input": [
      "# combined\n",
      "def main():\n",
      "    hypos = ['Bowl 1', 'Bowl 2']\n",
      "\n",
      "    pmf = Cookie(hypos)\n",
      "\n",
      "    pmf.Update('vanilla')\n",
      "\n",
      "    for hypo, prob in pmf.Items():\n",
      "        print hypo, prob\n",
      "\n",
      "\n",
      "if __name__ == '__main__':\n",
      "    main()"
     ],
     "language": "python",
     "metadata": {},
     "outputs": [
      {
       "output_type": "stream",
       "stream": "stdout",
       "text": [
        "Bowl 2 0.4\n",
        "Bowl 1 0.6\n"
       ]
      }
     ],
     "prompt_number": 52
    },
    {
     "cell_type": "markdown",
     "metadata": {},
     "source": [
      "We can now draw more than one cookie from the bowl (with replacement):"
     ]
    },
    {
     "cell_type": "code",
     "collapsed": false,
     "input": [
      "dataset = ['vanilla', 'chocolate', 'vanilla']\n",
      "for data in dataset:\n",
      "    pmf.Update(data)"
     ],
     "language": "python",
     "metadata": {},
     "outputs": [],
     "prompt_number": 47
    },
    {
     "cell_type": "code",
     "collapsed": false,
     "input": [
      "for hypo, prob in pmf.Items():\n",
      "    print hypo, prob"
     ],
     "language": "python",
     "metadata": {},
     "outputs": [
      {
       "output_type": "stream",
       "stream": "stdout",
       "text": [
        "Bowl 2 0.372093023256\n",
        "Bowl 1 0.627906976744\n"
       ]
      }
     ],
     "prompt_number": 48
    },
    {
     "cell_type": "heading",
     "level": 3,
     "metadata": {},
     "source": [
      "The Monty Hall Problem"
     ]
    },
    {
     "cell_type": "code",
     "collapsed": false,
     "input": [
      "class Monty(Pmf):\n",
      "    def __init__(self, hypos):\n",
      "        for hypo in hypos:\n",
      "            self.Set(hypo, 1)\n",
      "        self.Normalize()\n",
      "        \n",
      "    def Update(self, data):\n",
      "        for hypo in self.Values():\n",
      "            like = self.Likelihood(data, hypo)\n",
      "            self.Mult(hypo, like)\n",
      "        self.Normalize()\n",
      "    \n",
      "    def Likelihood(self, data, hypo):\n",
      "        if hypo == data:\n",
      "            return 0\n",
      "        elif hypo == 'A':\n",
      "            return 0.5\n",
      "        else:\n",
      "            return 1\n",
      "\n",
      "hypos = 'ABC'\n",
      "pmf = Monty(hypos)\n",
      "\n",
      "for hypo, prob in pmf.Items():\n",
      "    print hypo, prob"
     ],
     "language": "python",
     "metadata": {},
     "outputs": [
      {
       "ename": "AttributeError",
       "evalue": "'Monty' object has no attribute 'd'",
       "output_type": "pyerr",
       "traceback": [
        "\u001b[0;31m---------------------------------------------------------------------------\u001b[0m\n\u001b[0;31mAttributeError\u001b[0m                            Traceback (most recent call last)",
        "\u001b[0;32m<ipython-input-54-c4c63148777c>\u001b[0m in \u001b[0;36m<module>\u001b[0;34m()\u001b[0m\n\u001b[1;32m     20\u001b[0m \u001b[0;34m\u001b[0m\u001b[0m\n\u001b[1;32m     21\u001b[0m \u001b[0mhypos\u001b[0m \u001b[0;34m=\u001b[0m \u001b[0;34m'ABC'\u001b[0m\u001b[0;34m\u001b[0m\u001b[0m\n\u001b[0;32m---> 22\u001b[0;31m \u001b[0mpmf\u001b[0m \u001b[0;34m=\u001b[0m \u001b[0mMonty\u001b[0m\u001b[0;34m(\u001b[0m\u001b[0mhypos\u001b[0m\u001b[0;34m)\u001b[0m\u001b[0;34m\u001b[0m\u001b[0m\n\u001b[0m\u001b[1;32m     23\u001b[0m \u001b[0;34m\u001b[0m\u001b[0m\n\u001b[1;32m     24\u001b[0m \u001b[0;32mfor\u001b[0m \u001b[0mhypo\u001b[0m\u001b[0;34m,\u001b[0m \u001b[0mprob\u001b[0m \u001b[0;32min\u001b[0m \u001b[0mpmf\u001b[0m\u001b[0;34m.\u001b[0m\u001b[0mItems\u001b[0m\u001b[0;34m(\u001b[0m\u001b[0;34m)\u001b[0m\u001b[0;34m:\u001b[0m\u001b[0;34m\u001b[0m\u001b[0m\n",
        "\u001b[0;32m<ipython-input-54-c4c63148777c>\u001b[0m in \u001b[0;36m__init__\u001b[0;34m(self, hypos)\u001b[0m\n\u001b[1;32m      2\u001b[0m     \u001b[0;32mdef\u001b[0m \u001b[0m__init__\u001b[0m\u001b[0;34m(\u001b[0m\u001b[0mself\u001b[0m\u001b[0;34m,\u001b[0m \u001b[0mhypos\u001b[0m\u001b[0;34m)\u001b[0m\u001b[0;34m:\u001b[0m\u001b[0;34m\u001b[0m\u001b[0m\n\u001b[1;32m      3\u001b[0m         \u001b[0;32mfor\u001b[0m \u001b[0mhypo\u001b[0m \u001b[0;32min\u001b[0m \u001b[0mhypos\u001b[0m\u001b[0;34m:\u001b[0m\u001b[0;34m\u001b[0m\u001b[0m\n\u001b[0;32m----> 4\u001b[0;31m             \u001b[0mself\u001b[0m\u001b[0;34m.\u001b[0m\u001b[0mSet\u001b[0m\u001b[0;34m(\u001b[0m\u001b[0mhypo\u001b[0m\u001b[0;34m,\u001b[0m \u001b[0;36m1\u001b[0m\u001b[0;34m)\u001b[0m\u001b[0;34m\u001b[0m\u001b[0m\n\u001b[0m\u001b[1;32m      5\u001b[0m         \u001b[0mself\u001b[0m\u001b[0;34m.\u001b[0m\u001b[0mNormalize\u001b[0m\u001b[0;34m(\u001b[0m\u001b[0;34m)\u001b[0m\u001b[0;34m\u001b[0m\u001b[0m\n\u001b[1;32m      6\u001b[0m \u001b[0;34m\u001b[0m\u001b[0m\n",
        "\u001b[0;32m/Users/jim/Documents/Python/ThinkBayes/thinkbayes.py\u001b[0m in \u001b[0;36mSet\u001b[0;34m(self, x, y)\u001b[0m\n\u001b[1;32m    283\u001b[0m             \u001b[0my\u001b[0m\u001b[0;34m:\u001b[0m \u001b[0mnumber\u001b[0m \u001b[0mfreq\u001b[0m \u001b[0;32mor\u001b[0m \u001b[0mprob\u001b[0m\u001b[0;34m\u001b[0m\u001b[0m\n\u001b[1;32m    284\u001b[0m         \"\"\"\n\u001b[0;32m--> 285\u001b[0;31m         \u001b[0mself\u001b[0m\u001b[0;34m.\u001b[0m\u001b[0md\u001b[0m\u001b[0;34m[\u001b[0m\u001b[0mx\u001b[0m\u001b[0;34m]\u001b[0m \u001b[0;34m=\u001b[0m \u001b[0my\u001b[0m\u001b[0;34m\u001b[0m\u001b[0m\n\u001b[0m\u001b[1;32m    286\u001b[0m \u001b[0;34m\u001b[0m\u001b[0m\n\u001b[1;32m    287\u001b[0m     \u001b[0;32mdef\u001b[0m \u001b[0mIncr\u001b[0m\u001b[0;34m(\u001b[0m\u001b[0mself\u001b[0m\u001b[0;34m,\u001b[0m \u001b[0mx\u001b[0m\u001b[0;34m,\u001b[0m \u001b[0mterm\u001b[0m\u001b[0;34m=\u001b[0m\u001b[0;36m1\u001b[0m\u001b[0;34m)\u001b[0m\u001b[0;34m:\u001b[0m\u001b[0;34m\u001b[0m\u001b[0m\n",
        "\u001b[0;31mAttributeError\u001b[0m: 'Monty' object has no attribute 'd'"
       ]
      }
     ],
     "prompt_number": 54
    },
    {
     "cell_type": "code",
     "collapsed": false,
     "input": [],
     "language": "python",
     "metadata": {},
     "outputs": []
    }
   ],
   "metadata": {}
  }
 ]
}