{
 "metadata": {
  "name": "",
  "signature": "sha256:3ebb775d69267d1f5fe7cf465548fe26bd5334eaa2f0df344ab111fa4b7b94a1"
 },
 "nbformat": 3,
 "nbformat_minor": 0,
 "worksheets": [
  {
   "cells": [
    {
     "cell_type": "heading",
     "level": 1,
     "metadata": {},
     "source": [
      "Chapter 3 - Estimation"
     ]
    },
    {
     "cell_type": "heading",
     "level": 3,
     "metadata": {},
     "source": [
      "3.1 The dice problem"
     ]
    },
    {
     "cell_type": "markdown",
     "metadata": {},
     "source": [
      "Given a box with: a 4 sided die, 6 sided die, 8 sided die, 12 sided die, and a 20 sided die, you pick out a die at random, roll it, and get a six. What is the probability that you rolled each die?\n",
      "\n",
      "Strategy:\n",
      "* Choose a representation for the hypotheses\n",
      "* Choose a representation for the data\n",
      "* Write the likelihood function"
     ]
    },
    {
     "cell_type": "code",
     "collapsed": false,
     "input": [
      "from thinkbayes import Suite\n",
      "\n",
      "class Dice(Suite):\n",
      "    def Likelihood(self, data, hypo):\n",
      "        if hypo < data:\n",
      "            return 0\n",
      "        else:\n",
      "            return 1.0/hypo\n",
      "        \n",
      "def main():\n",
      "    suite = Dice([4, 6, 8, 12, 20])\n",
      "    \n",
      "    suite.Update(6)\n",
      "    print \"After one 6\"\n",
      "    suite.Print()\n",
      "    \n",
      "    for roll in [4, 8, 7, 7, 2]:\n",
      "        suite.Update(roll)\n",
      "    \n",
      "    print \"After more rolls\"\n",
      "    suite.Print()\n",
      "\n",
      "if __name__ == '__main__':\n",
      "    main()"
     ],
     "language": "python",
     "metadata": {},
     "outputs": [
      {
       "output_type": "stream",
       "stream": "stdout",
       "text": [
        "After one 6\n",
        "4 0.0\n",
        "6 0.392156862745\n",
        "8 0.294117647059\n",
        "12 0.196078431373\n",
        "20 0.117647058824\n",
        "After more rolls\n",
        "4 0.0\n",
        "6 0.0\n",
        "8 0.915845271969\n",
        "12 0.080403425797\n",
        "20 0.00375130223399\n"
       ]
      }
     ],
     "prompt_number": 9
    },
    {
     "cell_type": "code",
     "collapsed": false,
     "input": [],
     "language": "python",
     "metadata": {},
     "outputs": []
    }
   ],
   "metadata": {}
  }
 ]
}